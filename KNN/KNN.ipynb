{
  "nbformat": 4,
  "nbformat_minor": 0,
  "metadata": {
    "colab": {
      "name": "KNNform scrach.ipynb",
      "version": "0.3.2",
      "provenance": [],
      "collapsed_sections": []
    },
    "kernelspec": {
      "name": "python3",
      "display_name": "Python 3"
    },
    "accelerator": "GPU"
  },
  "cells": [
    {
      "cell_type": "code",
      "metadata": {
        "id": "Ok22krwBBSyw",
        "colab_type": "code",
        "colab": {}
      },
      "source": [
        "# change working directory to current directory"
      ],
      "execution_count": 0,
      "outputs": []
    },
    {
      "cell_type": "code",
      "metadata": {
        "id": "ZBU5yfQxbA4K",
        "colab_type": "code",
        "colab": {}
      },
      "source": [
        "#import raquired libraries\n",
        "from sklearn.model_selection import train_test_split\n",
        "import pandas as pd\n",
        "import math"
      ],
      "execution_count": 0,
      "outputs": []
    },
    {
      "cell_type": "code",
      "metadata": {
        "id": "i3mTCFBqCONG",
        "colab_type": "code",
        "outputId": "9faae010-156c-43e0-fd88-4993dc93cf09",
        "colab": {
          "base_uri": "https://localhost:8080/",
          "height": 248
        }
      },
      "source": [
        "# load the dataset\n",
        "df = pd.read_csv(\"iris.data\")\n",
        "df.head()"
      ],
      "execution_count": 3,
      "outputs": [
        {
          "output_type": "execute_result",
          "data": {
            "text/html": [
              "<div>\n",
              "<style scoped>\n",
              "    .dataframe tbody tr th:only-of-type {\n",
              "        vertical-align: middle;\n",
              "    }\n",
              "\n",
              "    .dataframe tbody tr th {\n",
              "        vertical-align: top;\n",
              "    }\n",
              "\n",
              "    .dataframe thead th {\n",
              "        text-align: right;\n",
              "    }\n",
              "</style>\n",
              "<table border=\"1\" class=\"dataframe\">\n",
              "  <thead>\n",
              "    <tr style=\"text-align: right;\">\n",
              "      <th></th>\n",
              "      <th>sepal_length</th>\n",
              "      <th>sepal_width</th>\n",
              "      <th>petal_length</th>\n",
              "      <th>petal_width</th>\n",
              "      <th>class</th>\n",
              "    </tr>\n",
              "  </thead>\n",
              "  <tbody>\n",
              "    <tr>\n",
              "      <th>0</th>\n",
              "      <td>5.1</td>\n",
              "      <td>3.5</td>\n",
              "      <td>1.4</td>\n",
              "      <td>0.2</td>\n",
              "      <td>Iris-setosa</td>\n",
              "    </tr>\n",
              "    <tr>\n",
              "      <th>1</th>\n",
              "      <td>4.9</td>\n",
              "      <td>3.0</td>\n",
              "      <td>1.4</td>\n",
              "      <td>0.2</td>\n",
              "      <td>Iris-setosa</td>\n",
              "    </tr>\n",
              "    <tr>\n",
              "      <th>2</th>\n",
              "      <td>4.7</td>\n",
              "      <td>3.2</td>\n",
              "      <td>1.3</td>\n",
              "      <td>0.2</td>\n",
              "      <td>Iris-setosa</td>\n",
              "    </tr>\n",
              "    <tr>\n",
              "      <th>3</th>\n",
              "      <td>4.6</td>\n",
              "      <td>3.1</td>\n",
              "      <td>1.5</td>\n",
              "      <td>0.2</td>\n",
              "      <td>Iris-setosa</td>\n",
              "    </tr>\n",
              "    <tr>\n",
              "      <th>4</th>\n",
              "      <td>5.0</td>\n",
              "      <td>3.6</td>\n",
              "      <td>1.4</td>\n",
              "      <td>0.2</td>\n",
              "      <td>Iris-setosa</td>\n",
              "    </tr>\n",
              "  </tbody>\n",
              "</table>\n",
              "</div>"
            ],
            "text/plain": [
              "   sepal_length  sepal_width  petal_length  petal_width        class\n",
              "0           5.1          3.5           1.4          0.2  Iris-setosa\n",
              "1           4.9          3.0           1.4          0.2  Iris-setosa\n",
              "2           4.7          3.2           1.3          0.2  Iris-setosa\n",
              "3           4.6          3.1           1.5          0.2  Iris-setosa\n",
              "4           5.0          3.6           1.4          0.2  Iris-setosa"
            ]
          },
          "metadata": {
            "tags": []
          },
          "execution_count": 3
        }
      ]
    },
    {
      "cell_type": "code",
      "metadata": {
        "id": "J3BHD4ekkGge",
        "colab_type": "code",
        "colab": {
          "base_uri": "https://localhost:8080/",
          "height": 55
        },
        "outputId": "334e565d-150e-41a4-c021-93c479d4cca1"
      },
      "source": [
        "# split the dataset into training and testing sets and also shuffle the dataset to avoid biased results\n",
        "x_train,x_test,y_train,y_test = train_test_split(df.iloc[:,:-1],df.iloc[:,-1],test_size = 0.2,random_state = 1)\n",
        "print(len(x_train),len(x_test))\n",
        "\n",
        "# create dictonaries for easy conversion from catagory to int value and vice versa\n",
        "dict = {0:'Iris-setosa', 1:'Iris-versicolor', 2:'Iris-virginica'}\n",
        "rev_dict = {'Iris-setosa':0, 'Iris-versicolor':1, 'Iris-virginica':2}"
      ],
      "execution_count": 4,
      "outputs": [
        {
          "output_type": "stream",
          "text": [
            "120 30\n"
          ],
          "name": "stdout"
        }
      ]
    },
    {
      "cell_type": "code",
      "metadata": {
        "id": "ai_8Bm0FBzUm",
        "colab_type": "code",
        "colab": {}
      },
      "source": [
        "# function to calculate distances between the two instances or two rows\n",
        "def eucledian_distance(instance1, instance2):\n",
        "    distance = 0\n",
        "    for i in range(len(instance1)):\n",
        "        distance += (instance1.iloc[i]-instance2.iloc[i])**2\n",
        "    return(math.sqrt(distance))\n"
      ],
      "execution_count": 0,
      "outputs": []
    },
    {
      "cell_type": "code",
      "metadata": {
        "id": "bxRVi1EfGuEB",
        "colab_type": "code",
        "colab": {}
      },
      "source": [
        "# function to calculate distance of instance with whole training dataset\n",
        "def distance(train,instance):\n",
        "    distances = []\n",
        "    for i in range(len(train)):\n",
        "        distances.append([eucledian_distance(train.iloc[i],instance),i])\n",
        "    distances.sort(key=lambda x:x[0])\n",
        "    return(distances)\n",
        "\n"
      ],
      "execution_count": 0,
      "outputs": []
    },
    {
      "cell_type": "code",
      "metadata": {
        "id": "AmH1s5gmRnHH",
        "colab_type": "code",
        "colab": {}
      },
      "source": [
        "# function to predicting classes from neighbours\n",
        "def getResponse(distances,y_train,k):\n",
        "    if k > len(y_train):\n",
        "        k = len(y_train)\n",
        "    res = [0]*3\n",
        "    for i in range(k):\n",
        "        res[rev_dict[y_train.iloc[distances[i][1]]]] +=1\n",
        "    cat = dict[res.index(max(res))]\n",
        "    return(cat)   \n",
        "    "
      ],
      "execution_count": 0,
      "outputs": []
    },
    {
      "cell_type": "code",
      "metadata": {
        "id": "PRm0wMWCQ5BB",
        "colab_type": "code",
        "colab": {}
      },
      "source": [
        "# function to predict catagories of all the testing examples\n",
        "def predictions(x_train,x_test,y_train,k):\n",
        "    preds = []\n",
        "    for i in range(len(x_test)):\n",
        "        dist = distance(x_train,x_test.iloc[i])\n",
        "        response = getResponse(dist,y_train,k)\n",
        "        preds.append(response)\n",
        "    return(preds)\n",
        "    \n",
        "\n"
      ],
      "execution_count": 0,
      "outputs": []
    },
    {
      "cell_type": "code",
      "metadata": {
        "id": "JUSCBg_rYsiH",
        "colab_type": "code",
        "colab": {}
      },
      "source": [
        "# function for calculating accuracy of matrix\n",
        "def accuracy(predictions, y_test):\n",
        "    ln = len(predictions)\n",
        "    correct = 0\n",
        "    for i in range(len(predictions)):\n",
        "        if predictions[i] == y_test.iloc[i]:\n",
        "            correct+=1\n",
        "    accuracy = (correct/ln)*100\n",
        "#     print(accuracy)\n",
        "    return(accuracy)"
      ],
      "execution_count": 0,
      "outputs": []
    },
    {
      "cell_type": "code",
      "metadata": {
        "id": "WTXw_3dTUA9d",
        "colab_type": "code",
        "colab": {
          "base_uri": "https://localhost:8080/",
          "height": 76
        },
        "outputId": "314989a9-3141-4982-f5d8-9d2944bf50a7"
      },
      "source": [
        "preds = predictions(x_train,x_test,y_train,10)\n",
        "accuracy = accuracy(preds,y_test)\n",
        "print(accuracy)"
      ],
      "execution_count": 10,
      "outputs": [
        {
          "output_type": "stream",
          "text": [
            "96.66666666666667\n"
          ],
          "name": "stdout"
        }
      ]
    }
  ]
}